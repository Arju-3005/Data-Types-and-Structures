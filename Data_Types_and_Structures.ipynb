{
  "nbformat": 4,
  "nbformat_minor": 0,
  "metadata": {
    "colab": {
      "provenance": []
    },
    "kernelspec": {
      "name": "python3",
      "display_name": "Python 3"
    },
    "language_info": {
      "name": "python"
    }
  },
  "cells": [
    {
      "cell_type": "markdown",
      "source": [
        "## **Data Types and Structures**"
      ],
      "metadata": {
        "id": "UETeMLttxrwo"
      }
    },
    {
      "cell_type": "markdown",
      "source": [
        "1. What are data structures, and why are they important?\n",
        "  -  Data structures are a way of organizing and storing data in a computer so that it can be used efficiently. They define not just how data is stored, but also how we can access, manipulate, and manage it.\n",
        "\n",
        "     They're important because they directly affect the performance of our programs. Choosing the right data structure can make our code more efficient in terms of both time and space. For example, using a hash table allows for fast lookups on average, while a tree structure can help maintain a sorted order and enable quick insertions and deletions.\n",
        "\n",
        "     Beyond performance, data structures also make our code more organized and easier to maintain. They're fundamental to the design of algorithms, and each structure is suited to specific types of problems. For instance, graphs are great for modeling networks, queues are useful in scheduling, and stacks are often used in parsing expressions or implementing backtracking.\n",
        "\n",
        "     Ultimately, a solid understanding of data structures is essential for building scalable and optimized applications.\n",
        "     \n",
        "2. Explain the difference between mutable and immutable data types with examples.\n",
        "  - The key difference between mutable and immutable data types is whether or not they can be changed after they’re created.\n",
        "\n",
        "     Mutable data types can be changed in place. This means you can modify the object’s content without creating a new object.\n",
        "\n",
        "     For example, in Python:\n",
        "\n",
        "     my_list = [1, 2, 3]\n",
        "\n",
        "     my_list.append(4)\n",
        "\n",
        "     After this operation, my_list becomes [1, 2, 3, 4]—the original list was directly modified.\n",
        "\n",
        "     Immutable data types, on the other hand, cannot be changed after creation. Any operation that tries to alter them will result in the creation of a new object.\n",
        "\n",
        "     A good example is a string:\n",
        "\n",
        "     my_str = \"hello\"\n",
        "\n",
        "     my_str += \" world\"\n",
        "\n",
        "     Even though it looks like we modified my_str, Python actually created a new string \"hello world\" and assigned it back to my_str.\n",
        "\n",
        "     This concept is important because it affects how data is handled in memory, especially when passing variables to functions. Immutable types are generally safer to use in concurrent programming since their state can’t change unexpectedly.\n",
        "\n",
        "3. What are the main differences between lists and tuples in Python?\n",
        "\n",
        "   - The main differences between lists and tuples in Python are:\n",
        "\n",
        "      1. Mutability:\n",
        "\n",
        "         - Lists are mutable, meaning their contents can be changed (you can add, remove, or modify elements).\n",
        "\n",
        "       - Tuples are immutable, meaning once they are created, their contents cannot be altered.\n",
        "\n",
        "      2. Syntax:\n",
        "\n",
        "         - Lists are defined using square brackets: list_example = [1, 2,\n",
        "        -  Tuples are defined using parentheses: tuple_example = (1, 2, 3)\n",
        "\n",
        "      3. Performance:\n",
        "\n",
        "         - Tuples are generally faster than lists when it comes to iteration and access, due to their immutability and fixed size.\n",
        "\n",
        "         - Lists consume slightly more memory and are better suited for dynamic collections.\n",
        "\n",
        "      4. Use Cases:\n",
        "\n",
        "          -  Use lists when you need a modifiable collection of items.\n",
        "\n",
        "         - Use tuples when you want to ensure data integrity (e.g., coordinates, days of the week), or when you want to use the collection as a dictionary key (since tuples are hashable and lists are not).\n",
        "\n",
        "4. Describe how dictionaries store data.\n",
        "    - In Python, a dictionary is a highly efficient, built-in data structure used to store data in key-value pairs. It allows for fast and flexible data retrieval based on unique keys.\n",
        "\n",
        "       -  How Data is Stored:\n",
        "\n",
        "         - Internally, Python dictionaries use a hash table.\n",
        "\n",
        "          - When you insert a key-value pair, Python:\n",
        "\n",
        "              1. Computes the hash value of the key.\n",
        "\n",
        "              2. Uses this hash to determine an index in the internal array.\n",
        "\n",
        "              3. Stores the key-value pair at that index.\n",
        "\n",
        "          -  This enables average-case constant time complexity — O(1) — for\n",
        "             lookups, insertions, and deletions.\n",
        "\n",
        "       Example:\n",
        "\n",
        "\n",
        "           person = {\"name\": \"Alice\", \"age\": 30}\n",
        "           print(person[\"name\"])  # Output: Alice\n",
        "\n",
        "           \n",
        "\n",
        "5. Why might you use a set instead of a list in Python?\n",
        "   -  You might use a set instead of a list when you need to:\n",
        "\n",
        "      -  Ensure uniqueness — sets automatically remove duplicates.\n",
        "\n",
        "     -  Check membership efficiently — the in operator is faster in sets (O(1) average) than in lists (O(n)).\n",
        "\n",
        "     -  Perform set operations like union, intersection, and difference.\n",
        "\n",
        "     Example:\n",
        "\n",
        "     unique_items = set([1, 2, 2, 3])  # Output: {1, 2, 3}\n",
        "6. What is a string in Python, and how is it different from a list\n",
        "   - A string in Python is an immutable sequence of Unicode characters, while a list is a mutable sequence that can hold any type of elements.\n",
        "\n",
        "    -  Key differences:\n",
        "\n",
        "      -   Strings are immutable; you cannot modify them in place.\n",
        "\n",
        "       -  Lists are mutable; elements can be added, changed, or removed.      \n",
        "7. How do tuples ensure data integrity in Python?\n",
        "    -  Tuples are immutable, meaning once created, their values cannot be changed. This immutability ensures that the data remains constant and secure, making tuples ideal for storing fixed sets of values or using them as dictionary keys.\n",
        "8.  What is a hash table, and how does it relate to dictionaries in Python?\n",
        "   -  A hash table is a data structure that stores key-value pairs using a hash function to compute an index. In Python, dictionaries are implemented using a hash table, which allows for constant-time access to values via their keys.\n",
        "\n",
        "9.  Can lists contain different data types in Python?\n",
        "   -    Yes, Python lists are heterogeneous, meaning they can contain different data types within the same list, such as integers, strings, and even other lists or objects.\n",
        "\n",
        "   Example:\n",
        "\n",
        "   mixed = [1, \"hello\", [2, 3], 4.5]\n",
        "10.  Explain why strings are immutable in Python.\n",
        "    -  Strings in Python are immutable, meaning once created, they cannot be changed. This design offers:\n",
        "\n",
        "      -  Memory efficiency, as the interpreter can safely reuse string objects.\n",
        "\n",
        "      -  Thread safety, since immutable objects can be shared between threads without risk.\n",
        "\n",
        "      -  It also ensures predictable behavior in functions and data structures that rely on consistent values (like dictionary keys).\n",
        "\n",
        "11.  What advantages do dictionaries offer over lists for certain tasks?\n",
        "    -  Dictionaries are better than lists when you need:\n",
        "\n",
        "      -  Fast lookups by key (O(1) average time complexity).\n",
        "\n",
        "      -  Key-value mappings, such as storing user data, configurations, or lookup tables.\n",
        "\n",
        "       -  More readable code, as keys provide meaningful context to values.\n",
        "\n",
        "       Example:\n",
        "\n",
        "       user = {\"name\": \"Alice\", \"age\": 25}\n",
        "\n",
        "12.   Describe a scenario where using a tuple would be preferable over a list.\n",
        "     -  Use a tuple when:\n",
        "\n",
        "       -  The data should not be modified, e.g., geographical coordinates (latitude, longitude).\n",
        "\n",
        "       -  You want to use the sequence as a dictionary key or in a set.\n",
        "\n",
        "        -  Data integrity and performance are important (tuples are faster and smaller than lists).\n",
        "13.  How do sets handle duplicate values in Python?\n",
        "    -  Sets in Python automatically discard duplicates. When you add elements to a set, only unique values are stored.\n",
        "\n",
        "     Example:\n",
        "\n",
        "     s = set([1, 2, 2, 3])  # Result: {1, 2, 3}\n",
        "14. How does the “in” keyword work differently for lists and dictionaries?\n",
        "    -   In a list, in checks if a value exists: x in list → linear search (O(n)).\n",
        "\n",
        "    - In a dictionary, in checks if a key exists: x in dict → hash table lookup (O(1) average).\n",
        "\n",
        "15.  Can you modify the elements of a tuple? Explain why or why not.\n",
        "    -    No, you cannot modify the elements of a tuple because tuples are immutable in Python. Once a tuple is created, its size and contents cannot be changed. This immutability ensures data safety, hashability, and predictability in code.\n",
        "\n",
        "16. What is a nested dictionary, and give an example of its use case?\n",
        "    -  A nested dictionary is a dictionary where values are themselves dictionaries. It allows you to store hierarchical or structured data.\n",
        "\n",
        "     Use Case: Storing employee details grouped by department.\n",
        "\n",
        "     Example:\n",
        "\n",
        "     company = {\n",
        "  \"Engineering\": {\"Alice\": \"Engineer\", \"Bob\": \"Tech Lead\"},\n",
        "  \"HR\": {\"Clara\": \"Manager\"}\n",
        "   }\n",
        "\n",
        "17. Describe the time complexity of accessing elements in a dictionary?\n",
        "    -  Accessing an element by key in a dictionary has an average-case time complexity of O(1) due to its underlying hash table structure. In rare worst-case scenarios (due to hash collisions), it may degrade to O(n), but Python optimizes to keep lookups fast.\n",
        "\n",
        "18.   In what situations are lists preferred over dictionaries?\n",
        "    -  Lists are preferred when:\n",
        "\n",
        "       -  You need to maintain order of elements.\n",
        "\n",
        "        -  Data does not need a key (e.g., processing items sequentially).\n",
        "\n",
        "        -  You need index-based access or slicing.\n",
        "\n",
        "         -  The data is homogeneous and key-value mapping is unnecessary.\n",
        "\n",
        "\n",
        "19.   Why are dictionaries considered unordered, and how does that affect data retrieval?\n",
        "     -   Before Python 3.7, dictionaries were unordered — insertion order was not preserved. As of Python 3.7+, insertion order is preserved, but dictionaries are still primarily used for key-based retrieval, not for order.\n",
        "\n",
        "       Retrieval is based on the key, not the position, which allows for constant-time access regardless of the element’s insertion position.   \n",
        "\n",
        "     \n",
        "20. Explain the difference between a list and a dictionary in terms of data retrieval.\n",
        "    -  List: Retrieves elements using integer indices (list[0]), and search is O(n) unless indexed.\n",
        "\n",
        "   -  Dictionary: Retrieves elements using keys (dict['key']), offering O(1) average lookup time due to hash mapping.\n",
        "\n",
        "\n",
        "\n",
        "\n",
        "\n",
        "\n",
        "\n",
        "\n"
      ],
      "metadata": {
        "id": "fZIomADRz1ba"
      }
    },
    {
      "cell_type": "markdown",
      "source": [
        "# **Practical Questions**"
      ],
      "metadata": {
        "id": "7Pe2Xo84nlzx"
      }
    },
    {
      "cell_type": "markdown",
      "source": [
        "1.  Write a code to create a string with your name and print it."
      ],
      "metadata": {
        "id": "78D4mCICqUZJ"
      }
    },
    {
      "cell_type": "code",
      "source": [
        "name = \"Arju\"\n",
        "print(name)\n"
      ],
      "metadata": {
        "colab": {
          "base_uri": "https://localhost:8080/"
        },
        "id": "5ovhWQ27qiPY",
        "outputId": "eeb68d23-3f12-44db-e43b-171f8f0e08ae"
      },
      "execution_count": 1,
      "outputs": [
        {
          "output_type": "stream",
          "name": "stdout",
          "text": [
            "Arju\n"
          ]
        }
      ]
    },
    {
      "cell_type": "markdown",
      "source": [
        "2.  Write a code to find the length of the string \"Hello World\"."
      ],
      "metadata": {
        "id": "X4gHLHerqzuJ"
      }
    },
    {
      "cell_type": "code",
      "source": [
        "s = \"Hello World\"\n",
        "print(len(s))\n"
      ],
      "metadata": {
        "colab": {
          "base_uri": "https://localhost:8080/"
        },
        "id": "YrucZC6eq2ok",
        "outputId": "322a9f51-0790-4ea8-bc29-a118c5c86ec6"
      },
      "execution_count": 2,
      "outputs": [
        {
          "output_type": "stream",
          "name": "stdout",
          "text": [
            "11\n"
          ]
        }
      ]
    },
    {
      "cell_type": "markdown",
      "source": [
        "3.  Write a code to slice the first 3 characters from the string \"Python Programming."
      ],
      "metadata": {
        "id": "mo819ESEsRmn"
      }
    },
    {
      "cell_type": "code",
      "source": [
        "text = \"Python Programming\"\n",
        "print(text[:3])\n"
      ],
      "metadata": {
        "colab": {
          "base_uri": "https://localhost:8080/"
        },
        "id": "cD8iSKhrsWuY",
        "outputId": "048dca43-b4d4-4c46-9b88-641c355724ea"
      },
      "execution_count": 4,
      "outputs": [
        {
          "output_type": "stream",
          "name": "stdout",
          "text": [
            "Pyt\n"
          ]
        }
      ]
    },
    {
      "cell_type": "markdown",
      "source": [
        "4. Write a code to convert the string \"hello\" to uppercase."
      ],
      "metadata": {
        "id": "n2YTBeEKsvo3"
      }
    },
    {
      "cell_type": "code",
      "source": [
        "s = \"hello\"\n",
        "print(s.upper())\n"
      ],
      "metadata": {
        "colab": {
          "base_uri": "https://localhost:8080/"
        },
        "id": "X-Upn3sZsyko",
        "outputId": "c0668f65-5a0f-49f4-e1d6-2320ad80fc4a"
      },
      "execution_count": 6,
      "outputs": [
        {
          "output_type": "stream",
          "name": "stdout",
          "text": [
            "HELLO\n"
          ]
        }
      ]
    },
    {
      "cell_type": "markdown",
      "source": [
        "5. Write a code to replace the word \"apple\" with \"orange\" in the string \"I like apple\"."
      ],
      "metadata": {
        "id": "4WUB_0pItQzO"
      }
    },
    {
      "cell_type": "code",
      "source": [
        "s = \"I like apple\"\n",
        "print(s.replace(\"apple\", \"orange\"))\n"
      ],
      "metadata": {
        "id": "R_OJ4MJRtbun",
        "outputId": "be5ca5a2-62c4-42c1-f72f-662882a83c4e",
        "colab": {
          "base_uri": "https://localhost:8080/"
        }
      },
      "execution_count": 7,
      "outputs": [
        {
          "output_type": "stream",
          "name": "stdout",
          "text": [
            "I like orange\n"
          ]
        }
      ]
    },
    {
      "cell_type": "markdown",
      "source": [
        "6. Write a code to create a list with numbers 1 to 5 and print it."
      ],
      "metadata": {
        "id": "FaqG9DP6tnhv"
      }
    },
    {
      "cell_type": "code",
      "source": [
        "numbers = [1, 2, 3, 4, 5]\n",
        "print(numbers)\n"
      ],
      "metadata": {
        "id": "GZi6FcritrgY",
        "outputId": "c24d2184-0de0-425b-c825-01c5691ee4e8",
        "colab": {
          "base_uri": "https://localhost:8080/"
        }
      },
      "execution_count": 8,
      "outputs": [
        {
          "output_type": "stream",
          "name": "stdout",
          "text": [
            "[1, 2, 3, 4, 5]\n"
          ]
        }
      ]
    },
    {
      "cell_type": "markdown",
      "source": [
        "7. Write a code to append the number 10 to the list [1, 2, 3, 4]."
      ],
      "metadata": {
        "id": "nUGBVQEat2ZR"
      }
    },
    {
      "cell_type": "code",
      "source": [
        "lst = [1, 2, 3, 4]\n",
        "lst.append(10)\n",
        "print(lst)\n"
      ],
      "metadata": {
        "id": "bzEv_yIcuDlm",
        "outputId": "0ddcef25-a405-443c-82c4-d27b151d5a49",
        "colab": {
          "base_uri": "https://localhost:8080/"
        }
      },
      "execution_count": 9,
      "outputs": [
        {
          "output_type": "stream",
          "name": "stdout",
          "text": [
            "[1, 2, 3, 4, 10]\n"
          ]
        }
      ]
    },
    {
      "cell_type": "markdown",
      "source": [
        "8. Write a code to remove the number 3 from the list [1, 2, 3, 4, 5]."
      ],
      "metadata": {
        "id": "8EokrqBfuKLK"
      }
    },
    {
      "cell_type": "code",
      "source": [
        "lst = [1, 2, 3, 4, 5]\n",
        "lst.remove(3)\n",
        "print(lst)\n"
      ],
      "metadata": {
        "id": "kbguTpdiuMmD",
        "outputId": "256a54a2-50bd-47ee-bda6-5232cf61e96b",
        "colab": {
          "base_uri": "https://localhost:8080/"
        }
      },
      "execution_count": 11,
      "outputs": [
        {
          "output_type": "stream",
          "name": "stdout",
          "text": [
            "[1, 2, 4, 5]\n"
          ]
        }
      ]
    },
    {
      "cell_type": "markdown",
      "source": [
        "9. Write a code to access the second element in the list ['a', 'b', 'c', 'd']."
      ],
      "metadata": {
        "id": "GDsdtAbhukF8"
      }
    },
    {
      "cell_type": "code",
      "source": [
        "letters = ['a', 'b', 'c', 'd']\n",
        "print(letters[1])  # Output: 'b'\n"
      ],
      "metadata": {
        "id": "O6wVIMzEumHZ",
        "outputId": "2edb0175-a6e4-4ffd-8005-d3f7a76a528d",
        "colab": {
          "base_uri": "https://localhost:8080/"
        }
      },
      "execution_count": 12,
      "outputs": [
        {
          "output_type": "stream",
          "name": "stdout",
          "text": [
            "b\n"
          ]
        }
      ]
    },
    {
      "cell_type": "markdown",
      "source": [
        "10. Write a code to reverse the list [10, 20, 30, 40, 50]."
      ],
      "metadata": {
        "id": "9S7QxvRyuyap"
      }
    },
    {
      "cell_type": "code",
      "source": [
        "lst = [10, 20, 30, 40, 50]\n",
        "lst.reverse()\n",
        "print(lst)\n"
      ],
      "metadata": {
        "id": "InWEErrRu0Tr",
        "outputId": "1917ce2f-48fb-45c0-a311-642dda91f6d3",
        "colab": {
          "base_uri": "https://localhost:8080/"
        }
      },
      "execution_count": 13,
      "outputs": [
        {
          "output_type": "stream",
          "name": "stdout",
          "text": [
            "[50, 40, 30, 20, 10]\n"
          ]
        }
      ]
    },
    {
      "cell_type": "markdown",
      "source": [
        "11. Write a code to create a tuple with the elements 100, 200, 300 and print it."
      ],
      "metadata": {
        "id": "PeEw3gYNu65D"
      }
    },
    {
      "cell_type": "code",
      "source": [
        "my_tuple = (100, 200, 300)\n",
        "print(my_tuple)\n"
      ],
      "metadata": {
        "id": "I1q_EPXgu-5H",
        "outputId": "f14f429f-52ba-4d47-baf5-ce1e5e08eb08",
        "colab": {
          "base_uri": "https://localhost:8080/"
        }
      },
      "execution_count": 14,
      "outputs": [
        {
          "output_type": "stream",
          "name": "stdout",
          "text": [
            "(100, 200, 300)\n"
          ]
        }
      ]
    },
    {
      "cell_type": "markdown",
      "source": [
        "12. Write a code to access the second-to-last element of the tuple ('red', 'green', 'blue', 'yellow')."
      ],
      "metadata": {
        "id": "4lo3vR9DvE3p"
      }
    },
    {
      "cell_type": "code",
      "source": [
        "colors = ('red', 'green', 'blue', 'yellow')\n",
        "print(colors[-2])\n"
      ],
      "metadata": {
        "id": "jU_qpptDvO03",
        "outputId": "11e23640-fcfc-4fdc-cea4-eafac1e5f62b",
        "colab": {
          "base_uri": "https://localhost:8080/"
        }
      },
      "execution_count": 15,
      "outputs": [
        {
          "output_type": "stream",
          "name": "stdout",
          "text": [
            "blue\n"
          ]
        }
      ]
    },
    {
      "cell_type": "markdown",
      "source": [
        "13.  Write a code to find the minimum number in the tuple (10, 20, 5, 15)."
      ],
      "metadata": {
        "id": "SjMKljTpvcfk"
      }
    },
    {
      "cell_type": "code",
      "source": [
        "nums = (10, 20, 5, 15)\n",
        "print(min(nums))\n"
      ],
      "metadata": {
        "id": "yo9QO3U1vkSd",
        "outputId": "a6517722-294e-4b96-9314-c64abb1dd6ad",
        "colab": {
          "base_uri": "https://localhost:8080/"
        }
      },
      "execution_count": 16,
      "outputs": [
        {
          "output_type": "stream",
          "name": "stdout",
          "text": [
            "5\n"
          ]
        }
      ]
    },
    {
      "cell_type": "markdown",
      "source": [
        "14. Write a code to find the index of the element \"cat\" in the tuple ('dog', 'cat', 'rabbit')."
      ],
      "metadata": {
        "id": "Y0X-RmBKvuEF"
      }
    },
    {
      "cell_type": "code",
      "source": [
        "animals = ('dog', 'cat', 'rabbit')\n",
        "print(animals.index(\"cat\"))\n",
        "\n"
      ],
      "metadata": {
        "id": "Xi7HCgMLv1rU",
        "outputId": "d3fcf632-75e4-4d86-eb15-a1de6a39233e",
        "colab": {
          "base_uri": "https://localhost:8080/"
        }
      },
      "execution_count": 18,
      "outputs": [
        {
          "output_type": "stream",
          "name": "stdout",
          "text": [
            "1\n"
          ]
        }
      ]
    },
    {
      "cell_type": "markdown",
      "source": [
        "15. Write a code to create a tuple containing three different fruits and check if \"kiwi\" is in it."
      ],
      "metadata": {
        "id": "WnBE90XEwPVV"
      }
    },
    {
      "cell_type": "code",
      "source": [
        "fruits = (\"apple\", \"banana\", \"mango\")\n",
        "print(\"kiwi\" in fruits)\n",
        "\n"
      ],
      "metadata": {
        "id": "kijuo5dbwThL",
        "outputId": "4a6c65be-2d26-41b8-956b-c7cc468437ea",
        "colab": {
          "base_uri": "https://localhost:8080/"
        }
      },
      "execution_count": 19,
      "outputs": [
        {
          "output_type": "stream",
          "name": "stdout",
          "text": [
            "False\n"
          ]
        }
      ]
    },
    {
      "cell_type": "markdown",
      "source": [
        "16.  Write a code to create a set with the elements 'a', 'b', 'c' and print it."
      ],
      "metadata": {
        "id": "vYAk97upwo2I"
      }
    },
    {
      "cell_type": "code",
      "source": [
        "letters = {'a', 'b', 'c'}\n",
        "print(letters)\n"
      ],
      "metadata": {
        "id": "GqwBnWmwwst4",
        "outputId": "32da2130-3ed5-4ccc-fd46-16c029b3ad31",
        "colab": {
          "base_uri": "https://localhost:8080/"
        }
      },
      "execution_count": 20,
      "outputs": [
        {
          "output_type": "stream",
          "name": "stdout",
          "text": [
            "{'b', 'a', 'c'}\n"
          ]
        }
      ]
    },
    {
      "cell_type": "markdown",
      "source": [
        "17. Write a code to clear all elements from the set {1, 2, 3, 4, 5}."
      ],
      "metadata": {
        "id": "g5caAaRzw4j-"
      }
    },
    {
      "cell_type": "code",
      "source": [
        "s = {1, 2, 3, 4, 5}\n",
        "s.clear()\n",
        "print(s)\n"
      ],
      "metadata": {
        "id": "EqfuuvA0w8dN",
        "outputId": "8ad32d19-d674-4b18-9aa8-8d9834185695",
        "colab": {
          "base_uri": "https://localhost:8080/"
        }
      },
      "execution_count": 21,
      "outputs": [
        {
          "output_type": "stream",
          "name": "stdout",
          "text": [
            "set()\n"
          ]
        }
      ]
    },
    {
      "cell_type": "markdown",
      "source": [
        "18. Write a code to remove the element 4 from the set {1, 2, 3, 4}."
      ],
      "metadata": {
        "id": "7xOJ4FbixGZY"
      }
    },
    {
      "cell_type": "code",
      "source": [
        "s = {1, 2, 3, 4}\n",
        "s.remove(4)\n",
        "print(s)\n"
      ],
      "metadata": {
        "id": "K3h0m_4dxJpP",
        "outputId": "8121df1e-c46d-4bed-c4f8-05590d81a026",
        "colab": {
          "base_uri": "https://localhost:8080/"
        }
      },
      "execution_count": 22,
      "outputs": [
        {
          "output_type": "stream",
          "name": "stdout",
          "text": [
            "{1, 2, 3}\n"
          ]
        }
      ]
    },
    {
      "cell_type": "markdown",
      "source": [
        "19. Write a code to find the union of two sets {1, 2, 3} and {3, 4, 5}."
      ],
      "metadata": {
        "id": "C1Sl7SuFxYOq"
      }
    },
    {
      "cell_type": "code",
      "source": [
        "a = {1, 2, 3}\n",
        "b = {3, 4, 5}\n",
        "print(a.union(b))\n"
      ],
      "metadata": {
        "id": "jPL6abRoxboQ",
        "outputId": "7be04ef3-1105-49ec-b615-f81dfdc0b1a7",
        "colab": {
          "base_uri": "https://localhost:8080/"
        }
      },
      "execution_count": 23,
      "outputs": [
        {
          "output_type": "stream",
          "name": "stdout",
          "text": [
            "{1, 2, 3, 4, 5}\n"
          ]
        }
      ]
    },
    {
      "cell_type": "markdown",
      "source": [
        "20. Write a code to find the intersection of two sets {1, 2, 3} and {2, 3, 4}."
      ],
      "metadata": {
        "id": "NdKvPz86xpNe"
      }
    },
    {
      "cell_type": "code",
      "source": [
        "a = {1, 2, 3}\n",
        "b = {2, 3, 4}\n",
        "print(a.intersection(b))\n"
      ],
      "metadata": {
        "id": "JBJKfjxTxuWc",
        "outputId": "c3fa97b6-7ee2-49a5-ed14-eefd5314a7f4",
        "colab": {
          "base_uri": "https://localhost:8080/"
        }
      },
      "execution_count": 24,
      "outputs": [
        {
          "output_type": "stream",
          "name": "stdout",
          "text": [
            "{2, 3}\n"
          ]
        }
      ]
    },
    {
      "cell_type": "markdown",
      "source": [
        "21. Write a code to create a dictionary with the keys \"name\", \"age\", and \"city\", and print it."
      ],
      "metadata": {
        "id": "g2WlW9WdxzYv"
      }
    },
    {
      "cell_type": "code",
      "source": [
        "person = {\"name\": \"John\", \"age\": 25, \"city\": \"New York\"}\n",
        "print(person)\n"
      ],
      "metadata": {
        "id": "MlWRTS_ax4Dg",
        "outputId": "7b0de3f4-8104-4e43-f2bc-341549ec4b09",
        "colab": {
          "base_uri": "https://localhost:8080/"
        }
      },
      "execution_count": 25,
      "outputs": [
        {
          "output_type": "stream",
          "name": "stdout",
          "text": [
            "{'name': 'John', 'age': 25, 'city': 'New York'}\n"
          ]
        }
      ]
    },
    {
      "cell_type": "markdown",
      "source": [
        "22. Write a code to add a new key-value pair \"country\": \"USA\" to the dictionary {'name': 'John', 'age': 25}."
      ],
      "metadata": {
        "id": "xJ6fJjnxx7TA"
      }
    },
    {
      "cell_type": "code",
      "source": [
        "person = {\"name\": \"John\", \"age\": 25}\n",
        "person[\"country\"] = \"USA\"\n",
        "print(person)\n"
      ],
      "metadata": {
        "id": "15XsY9RWyAtA",
        "outputId": "68ee8ccc-cd68-4c35-8fdd-9c3575d01024",
        "colab": {
          "base_uri": "https://localhost:8080/"
        }
      },
      "execution_count": 26,
      "outputs": [
        {
          "output_type": "stream",
          "name": "stdout",
          "text": [
            "{'name': 'John', 'age': 25, 'country': 'USA'}\n"
          ]
        }
      ]
    },
    {
      "cell_type": "markdown",
      "source": [
        "23.  Write a code to access the value associated with the key \"name\" in the dictionary {'name': 'Alice', 'age': 30}."
      ],
      "metadata": {
        "id": "5AwqnB3iyEqx"
      }
    },
    {
      "cell_type": "code",
      "source": [
        "person = {\"name\": \"Alice\", \"age\": 30}\n",
        "print(person[\"name\"])\n"
      ],
      "metadata": {
        "id": "AsY8cie0yIrf",
        "outputId": "fa4e8867-7e20-4bc1-df64-aa95c00c65ec",
        "colab": {
          "base_uri": "https://localhost:8080/"
        }
      },
      "execution_count": 27,
      "outputs": [
        {
          "output_type": "stream",
          "name": "stdout",
          "text": [
            "Alice\n"
          ]
        }
      ]
    },
    {
      "cell_type": "markdown",
      "source": [
        "24. Write a code to remove the key \"age\" from the dictionary {'name': 'Bob', 'age': 22, 'city': 'New York'}."
      ],
      "metadata": {
        "id": "9-zxfUh4yOsq"
      }
    },
    {
      "cell_type": "code",
      "source": [
        "person = {'name': 'Bob', 'age': 22, 'city': 'New York'}\n",
        "person.pop(\"age\")\n",
        "print(person)\n"
      ],
      "metadata": {
        "id": "vplVRI0rySeN",
        "outputId": "1ab07497-663a-477c-87f3-db4fd74b1f06",
        "colab": {
          "base_uri": "https://localhost:8080/"
        }
      },
      "execution_count": 28,
      "outputs": [
        {
          "output_type": "stream",
          "name": "stdout",
          "text": [
            "{'name': 'Bob', 'city': 'New York'}\n"
          ]
        }
      ]
    },
    {
      "cell_type": "markdown",
      "source": [
        "25.  Write a code to check if the key \"city\" exists in the dictionary {'name': 'Alice', 'city': 'Paris'}."
      ],
      "metadata": {
        "id": "YhRuiG29yXsW"
      }
    },
    {
      "cell_type": "code",
      "source": [
        "person = {'name': 'Alice', 'city': 'Paris'}\n",
        "print(\"city\" in person)\n"
      ],
      "metadata": {
        "id": "xDOKyRl1ycPq",
        "outputId": "40ec925d-cb5f-4d73-9053-3bea845e99a1",
        "colab": {
          "base_uri": "https://localhost:8080/"
        }
      },
      "execution_count": 29,
      "outputs": [
        {
          "output_type": "stream",
          "name": "stdout",
          "text": [
            "True\n"
          ]
        }
      ]
    },
    {
      "cell_type": "markdown",
      "source": [
        "26.  Write a code to create a list, a tuple, and a dictionary, and print them all."
      ],
      "metadata": {
        "id": "EuszGTV7yhMm"
      }
    },
    {
      "cell_type": "code",
      "source": [
        "my_list = [1, 2, 3]\n",
        "my_tuple = (4, 5, 6)\n",
        "my_dict = {\"a\": 1, \"b\": 2}\n",
        "print(my_list, my_tuple, my_dict)\n"
      ],
      "metadata": {
        "id": "CDxtbD5aylKs",
        "outputId": "a21ad750-9966-4fb8-be20-19a434a90901",
        "colab": {
          "base_uri": "https://localhost:8080/"
        }
      },
      "execution_count": 30,
      "outputs": [
        {
          "output_type": "stream",
          "name": "stdout",
          "text": [
            "[1, 2, 3] (4, 5, 6) {'a': 1, 'b': 2}\n"
          ]
        }
      ]
    },
    {
      "cell_type": "markdown",
      "source": [
        "27. Write a code to create a list of 5 random numbers between 1 and 100, sort it in ascending order, and print the\n",
        "result.(replaced)"
      ],
      "metadata": {
        "id": "HtePzijmyn-3"
      }
    },
    {
      "cell_type": "code",
      "source": [
        "import random\n",
        "numbers = random.sample(range(1, 101), 5)\n",
        "numbers.sort()\n",
        "print(numbers)\n"
      ],
      "metadata": {
        "id": "MSh17teKyt1C",
        "outputId": "c3d7b78e-00af-42b7-816a-c9a5a5e971e9",
        "colab": {
          "base_uri": "https://localhost:8080/"
        }
      },
      "execution_count": 31,
      "outputs": [
        {
          "output_type": "stream",
          "name": "stdout",
          "text": [
            "[7, 24, 32, 57, 77]\n"
          ]
        }
      ]
    },
    {
      "cell_type": "markdown",
      "source": [
        "28. Write a code to create a list with strings and print the element at the third index."
      ],
      "metadata": {
        "id": "tRUDBrhwyw_W"
      }
    },
    {
      "cell_type": "code",
      "source": [
        "words = [\"apple\", \"banana\", \"cherry\", \"date\", \"fig\"]\n",
        "print(words[3])\n"
      ],
      "metadata": {
        "id": "phpAAjvTy0Mj",
        "outputId": "2d24bc9d-8d54-485c-aa6d-efa620210a14",
        "colab": {
          "base_uri": "https://localhost:8080/"
        }
      },
      "execution_count": 32,
      "outputs": [
        {
          "output_type": "stream",
          "name": "stdout",
          "text": [
            "date\n"
          ]
        }
      ]
    },
    {
      "cell_type": "markdown",
      "source": [
        "29. Write a code to combine two dictionaries into one and print the result."
      ],
      "metadata": {
        "id": "iK1jpNHXy4KW"
      }
    },
    {
      "cell_type": "code",
      "source": [
        "dict1 = {\"a\": 1, \"b\": 2}\n",
        "dict2 = {\"c\": 3, \"d\": 4}\n",
        "combined = {**dict1, **dict2}\n",
        "print(combined)\n"
      ],
      "metadata": {
        "id": "5CROJrpgy76R",
        "outputId": "276c7227-f713-4a0d-e22b-cdc8cff8ef1b",
        "colab": {
          "base_uri": "https://localhost:8080/"
        }
      },
      "execution_count": 33,
      "outputs": [
        {
          "output_type": "stream",
          "name": "stdout",
          "text": [
            "{'a': 1, 'b': 2, 'c': 3, 'd': 4}\n"
          ]
        }
      ]
    },
    {
      "cell_type": "markdown",
      "source": [
        "30. Write a code to convert a list of strings into a set."
      ],
      "metadata": {
        "id": "dZofbiXiy_PA"
      }
    },
    {
      "cell_type": "code",
      "source": [
        "str_list = [\"apple\", \"banana\", \"cherry\", \"apple\"]\n",
        "str_set = set(str_list)\n",
        "print(str_set)\n"
      ],
      "metadata": {
        "id": "CAzMS9j8zDHi",
        "outputId": "93a05a49-fd29-421d-f0c3-121b3ca70afb",
        "colab": {
          "base_uri": "https://localhost:8080/"
        }
      },
      "execution_count": 35,
      "outputs": [
        {
          "output_type": "stream",
          "name": "stdout",
          "text": [
            "{'cherry', 'apple', 'banana'}\n"
          ]
        }
      ]
    }
  ]
}